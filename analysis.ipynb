{
 "cells": [
  {
   "metadata": {},
   "cell_type": "markdown",
   "source": [
    "# Data analysis\n",
    "Goal: exploring data to find trends"
   ],
   "id": "7870c4c8f2dea2bf"
  },
  {
   "metadata": {},
   "cell_type": "markdown",
   "source": "## Loading data",
   "id": "f8ef40be203f2f2d"
  },
  {
   "metadata": {},
   "cell_type": "code",
   "outputs": [],
   "execution_count": null,
   "source": [
    "import pandas as pd\n",
    "import matplotlib.pyplot as plt\n",
    "import matplotlib.image as mpimg"
   ],
   "id": "d2b068d66442b2c"
  },
  {
   "metadata": {},
   "cell_type": "code",
   "outputs": [],
   "execution_count": null,
   "source": [
    "train = pd.read_csv(\"D:\\LargeDataspell\\Malaria\\Train.csv\")\n",
    "image_path = 'C:\\\\Users\\\\afkjh\\\\Downloads\\\\malaria_img\\\\'"
   ],
   "id": "c18176b01bf970f6"
  },
  {
   "metadata": {},
   "cell_type": "code",
   "outputs": [],
   "execution_count": null,
   "source": "train",
   "id": "a944569f65b1e92c"
  },
  {
   "metadata": {},
   "cell_type": "markdown",
   "source": "## Finding ave num. of trophozoite cells per person",
   "id": "efff08e8bea9ecaa"
  },
  {
   "metadata": {},
   "cell_type": "code",
   "outputs": [],
   "execution_count": null,
   "source": "TperI = train[train['class'] == 'Trophozoite'].groupby('Image_ID').count()['class']",
   "id": "4241138fae567490"
  },
  {
   "metadata": {},
   "cell_type": "code",
   "outputs": [],
   "execution_count": null,
   "source": "TperI.describe()",
   "id": "172d61250d032838"
  },
  {
   "metadata": {},
   "cell_type": "code",
   "outputs": [],
   "execution_count": null,
   "source": "TperI",
   "id": "ee2fd37ce2691597"
  },
  {
   "metadata": {},
   "cell_type": "markdown",
   "source": "## Finding min/max amount of trophozoite cells per image",
   "id": "7b5e41586f019231"
  },
  {
   "metadata": {},
   "cell_type": "code",
   "outputs": [],
   "execution_count": null,
   "source": "train['area'] = (train['ymax'] - train['ymin']) * (train['xmax'] - train['xmin'])",
   "id": "7fef7d78015f3a2f"
  },
  {
   "metadata": {},
   "cell_type": "code",
   "outputs": [],
   "execution_count": null,
   "source": "train[train['class'] == 'Trophozoite']['area'].describe()",
   "id": "cc1aea7097fdb637"
  },
  {
   "metadata": {},
   "cell_type": "markdown",
   "source": "### Plotting findings\n",
   "id": "16bfe1442ce1696d"
  },
  {
   "metadata": {},
   "cell_type": "code",
   "outputs": [],
   "execution_count": null,
   "source": "max_area = train.loc[train['area'].idxmax(), 'Image_ID']",
   "id": "a011b336284fbddb"
  },
  {
   "metadata": {},
   "cell_type": "code",
   "outputs": [],
   "execution_count": null,
   "source": "max_area",
   "id": "37348e9d4e06550f"
  },
  {
   "metadata": {},
   "cell_type": "code",
   "outputs": [],
   "execution_count": null,
   "source": "min_area = train.loc[train[train['class'] == 'Trophozoite']['area'].idxmin(), 'Image_ID']",
   "id": "5a0d296053d16720"
  },
  {
   "metadata": {},
   "cell_type": "code",
   "outputs": [],
   "execution_count": null,
   "source": "min_area",
   "id": "fb9b9df20dad7220"
  },
  {
   "metadata": {},
   "cell_type": "code",
   "outputs": [],
   "execution_count": null,
   "source": [
    "max_area_path = f'{image_path}{max_area}'\n",
    "min_area_path = f'{image_path}{min_area}'"
   ],
   "id": "30dbc7a7cbcdf29c"
  },
  {
   "metadata": {},
   "cell_type": "markdown",
   "source": "Generating images",
   "id": "a5855d40037b0971"
  },
  {
   "metadata": {},
   "cell_type": "code",
   "outputs": [],
   "execution_count": null,
   "source": [
    "# Display the images\n",
    "fig, axes = plt.subplots(1, 2, figsize=(10, 5))\n",
    "\n",
    "# Load and display the image with the highest value\n",
    "img_highest = mpimg.imread(max_area_path)\n",
    "axes[0].imshow(img_highest)\n",
    "axes[0].set_title(f'Highest Value ID: {max_area}')\n",
    "axes[0].axis('off')\n",
    "\n",
    "# Load and display the image with the lowest value\n",
    "img_lowest = mpimg.imread(min_area_path)\n",
    "axes[1].imshow(img_lowest)\n",
    "axes[1].set_title(f'Lowest Value ID: {min_area}')\n",
    "axes[1].axis('off')\n",
    "\n",
    "plt.show()"
   ],
   "id": "b40e59e643480539"
  },
  {
   "metadata": {},
   "cell_type": "markdown",
   "source": "## Finding min/max area of of trophozoite cells ",
   "id": "63e95f9dfab7beb5"
  },
  {
   "metadata": {},
   "cell_type": "code",
   "outputs": [],
   "execution_count": null,
   "source": [
    "# 1. Compile a list of all unique IDs\n",
    "unique_ids = train['Image_ID'].unique()\n",
    "unique_ids_list = unique_ids.tolist()\n",
    "print(f\"Unique IDs: {unique_ids_list}\")\n",
    "\n",
    "# 2. Find all IDs that have at least 1 trophozoite in column \"class\"\n",
    "ids_with_trophozoite = train[train['class'] == 'Trophozoite']['Image_ID'].unique().tolist()\n",
    "print(f\"IDs with at least 1 trophozoite: {ids_with_trophozoite}\")\n",
    "\n",
    "# 3. Find the ratio of trophozoite to white blood cells in column \"class\" for each unique ID\n",
    "# Group by 'ID' and count the occurrences of 'trophozoite' and 'white blood cells'\n",
    "trophozoite_counts = train[train['class'] == 'Trophozoite'].groupby('Image_ID').size()\n",
    "wbc_counts = train[train['class'] == 'WBC'].groupby('Image_ID').size()\n",
    "\n",
    "# Create a DataFrame to hold the counts\n",
    "counts_df = pd.DataFrame({'Trophozoite': trophozoite_counts, 'WBC': wbc_counts}).fillna(0)\n",
    "\n",
    "# Calculate the ratio\n",
    "counts_df['ratio'] = counts_df['Trophozoite'] / (counts_df['WBC'] + counts_df['Trophozoite'])\n",
    "\n",
    "print(counts_df[['Trophozoite', 'WBC', 'ratio']])"
   ],
   "id": "5f58adea78091a08"
  },
  {
   "metadata": {
    "ExecuteTime": {
     "end_time": "2024-12-03T09:27:34.978374Z",
     "start_time": "2024-12-03T09:27:34.666636Z"
    }
   },
   "cell_type": "code",
   "source": "counts_df",
   "id": "953aa36d393ffac9",
   "outputs": [
    {
     "ename": "NameError",
     "evalue": "name 'counts_df' is not defined",
     "output_type": "error",
     "traceback": [
      "\u001B[1;31m---------------------------------------------------------------------------\u001B[0m",
      "\u001B[1;31mNameError\u001B[0m                                 Traceback (most recent call last)",
      "Cell \u001B[1;32mIn[1], line 1\u001B[0m\n\u001B[1;32m----> 1\u001B[0m \u001B[43mcounts_df\u001B[49m\n",
      "\u001B[1;31mNameError\u001B[0m: name 'counts_df' is not defined"
     ]
    }
   ],
   "execution_count": 1
  },
  {
   "metadata": {},
   "cell_type": "code",
   "outputs": [],
   "execution_count": null,
   "source": "image_path = 'C:\\\\Users\\\\afkjh\\\\Downloads\\\\malaria_img\\\\'",
   "id": "25044cdf9cbc82d9"
  },
  {
   "metadata": {},
   "cell_type": "code",
   "outputs": [],
   "execution_count": null,
   "source": [
    "max_area = train.loc[train['area'].idxmax(), 'Image_ID']\n",
    "\n",
    "max_ratio = counts_df['ratio'].idxmax()\n",
    "min_ratio = counts_df['ratio'].idxmin()"
   ],
   "id": "9c50b20680b21ed2"
  },
  {
   "metadata": {},
   "cell_type": "code",
   "outputs": [],
   "execution_count": null,
   "source": [
    "max_ratio_path = f'{image_path}{max_ratio}'\n",
    "min_ratio_path = f'{image_path}{min_ratio}'"
   ],
   "id": "9ef046150720ebcf"
  },
  {
   "metadata": {},
   "cell_type": "code",
   "outputs": [],
   "execution_count": null,
   "source": [
    "# Display the images\n",
    "fig, axes = plt.subplots(1, 2, figsize=(10, 5))\n",
    "\n",
    "# Load and display the image with the highest value\n",
    "img_highest = mpimg.imread(max_ratio_path)\n",
    "axes[0].imshow(img_highest)\n",
    "axes[0].set_title(f'Highest Value ID: {max_ratio}')\n",
    "axes[0].axis('off')\n",
    "\n",
    "# Load and display the image with the lowest value\n",
    "img_lowest = mpimg.imread(min_ratio_path)\n",
    "axes[1].imshow(img_lowest)\n",
    "axes[1].set_title(f'Lowest Value ID: {min_ratio}')\n",
    "axes[1].axis('off')\n",
    "\n",
    "plt.show()"
   ],
   "id": "5444c54ee895b6ad"
  }
 ],
 "metadata": {
  "kernelspec": {
   "display_name": "Python 3",
   "language": "python",
   "name": "python3"
  },
  "language_info": {
   "codemirror_mode": {
    "name": "ipython",
    "version": 2
   },
   "file_extension": ".py",
   "mimetype": "text/x-python",
   "name": "python",
   "nbconvert_exporter": "python",
   "pygments_lexer": "ipython2",
   "version": "2.7.6"
  }
 },
 "nbformat": 4,
 "nbformat_minor": 5
}
